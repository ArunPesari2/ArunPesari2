{
  "cells": [
    {
      "cell_type": "markdown",
      "metadata": {
        "id": "view-in-github",
        "colab_type": "text"
      },
      "source": [
        "<a href=\"https://colab.research.google.com/github/ArunPesari2/ArunPesari2/blob/main/1_numpy_examples.ipynb\" target=\"_parent\"><img src=\"https://colab.research.google.com/assets/colab-badge.svg\" alt=\"Open In Colab\"/></a>"
      ]
    },
    {
      "cell_type": "markdown",
      "metadata": {
        "id": "Ey5lmeJaobrv"
      },
      "source": [
        "# NumPy\n",
        "\n",
        "numpy is python's package for doing math that is more advanced than +-*/\n",
        "\n",
        "This includes special functions like cosine, exponential, sqrt, ...\n",
        "\n",
        "On top of this we can use numpy to generate samples from many types of random variables\n",
        "\n",
        "numpy also has a powerful data type to define vectors, matrices, and tensors(more than two Dimensional arrays)\n",
        "\n",
        "With these data types numpy also allows us to do linear algebra - matrix multiplication and matrix-vector solutions"
      ]
    },
    {
      "cell_type": "code",
      "execution_count": null,
      "metadata": {
        "id": "-L-CY1ntobr7"
      },
      "outputs": [],
      "source": [
        "# the first step of using numpy is to tell python to use it\n",
        "import numpy as np"
      ]
    },
    {
      "cell_type": "code",
      "execution_count": null,
      "metadata": {
        "colab": {
          "base_uri": "https://localhost:8080/"
        },
        "id": "Dgp8WXA5obr_",
        "outputId": "5ca84f52-3bd6-4a25-9b9d-de5e0786f997"
      },
      "outputs": [
        {
          "output_type": "stream",
          "name": "stdout",
          "text": [
            "pi values 3.141592653589793\n",
            "cos value -0.4480736161291701\n",
            "sqrt value 1.1549891774384728\n",
            "exp values 2.718281828459045\n",
            "log e to the base e 1.0\n",
            "log e to the base 1 0.0\n"
          ]
        }
      ],
      "source": [
        "print(\"pi values\",np.pi)\n",
        "\n",
        "print(\"cos value\",np.cos(90))\n",
        "print(\"sqrt value\",np.sqrt(1.334))\n",
        "print(\"exp values\",np.exp(1))\n",
        "#log base e\n",
        "# Natural logarithm\n",
        "print(\"log e to the base e\",np.log(np.exp(1)))\n",
        "print(\"log e to the base 1\",np.log(1))\n",
        "\n"
      ]
    },
    {
      "cell_type": "code",
      "execution_count": null,
      "metadata": {
        "colab": {
          "base_uri": "https://localhost:8080/"
        },
        "id": "FSeMNo4pobsA",
        "outputId": "05fc6ccb-fb8b-4c33-e1c4-fcfe2da97a8e"
      },
      "outputs": [
        {
          "output_type": "stream",
          "name": "stdout",
          "text": [
            "the type of vector <class 'numpy.ndarray'>\n",
            "[1 2 3]\n",
            "the type of matrix <class 'numpy.ndarray'>\n",
            "\n",
            "[[1 2 1]\n",
            " [4 5 9]\n",
            " [1 8 9]]\n",
            "\n",
            "[[1 4 1]\n",
            " [2 5 8]\n",
            " [1 9 9]]\n",
            "\n",
            "[[0 1 2 3 4]\n",
            " [0 1 2 3 4]]\n",
            "1\n"
          ]
        }
      ],
      "source": [
        "# we can create numpy arrays by converting lists\n",
        "# this is a vector\n",
        "vec = np.array([1,2,3])\n",
        "print(\"the type of vector\",type(vec))\n",
        "\n",
        "print(vec)\n",
        "# we can create matrices by converting lists of lists\n",
        "mat = np.array([[1,2,1],[4,5,9],[1,8,9]])\n",
        "\n",
        "print(\"the type of matrix\",type(mat))\n",
        "print('')\n",
        "print(mat)\n",
        "print('')\n",
        "print(mat.T)\n",
        "print()\n",
        "\n",
        "mat2= np.array([np.arange(0,5),np.arange(0,5)])\n",
        "print(mat2)\n",
        "print(mat2[1,1])"
      ]
    },
    {
      "cell_type": "code",
      "execution_count": null,
      "metadata": {
        "colab": {
          "base_uri": "https://localhost:8080/"
        },
        "id": "2fD0cqXuobsC",
        "outputId": "b0995708-aa8d-4631-8472-85ae159dc8bf"
      },
      "outputs": [
        {
          "output_type": "stream",
          "name": "stdout",
          "text": [
            "<class 'range'>\n",
            "<class 'numpy.ndarray'>\n",
            "[ 0  1  2  3  4  5  6  7  8  9 10 11 12 13 14]\n",
            "\n",
            "[ 3.   3.5  4.   4.5  5.   5.5  6.   6.5  7.   7.5  8.   8.5  9.   9.5\n",
            " 10.  10.5 11.  11.5 12.  12.5 13.  13.5 14.  14.5 15.  15.5 16.  16.5\n",
            " 17.  17.5 18.  18.5 19.  19.5 20.  20.5]\n"
          ]
        }
      ],
      "source": [
        "# there are lots of other ways to create numpy arrays\n",
        "# numpy arrayRange\n",
        "\n",
        "# In the range datatype, you will store inclusive, exclusive and step\n",
        "print(type(range(0,15)))\n",
        "\n",
        "# In this narray datatype, you will store all the elements.\n",
        "vec2 = np.arange(0,15)\n",
        "print(type(vec2))\n",
        "print(vec2)\n",
        "print('')\n",
        "vec3 = np.arange(3,21,.5)\n",
        "print(vec3)\n"
      ]
    },
    {
      "cell_type": "code",
      "execution_count": null,
      "metadata": {
        "colab": {
          "base_uri": "https://localhost:8080/"
        },
        "id": "nWEUCjnhobsE",
        "outputId": "93ae09fc-b48e-4268-c8cd-bd5e96027f73"
      },
      "outputs": [
        {
          "output_type": "stream",
          "name": "stdout",
          "text": [
            "[0.         0.35714286 0.71428571 1.07142857 1.42857143 1.78571429\n",
            " 2.14285714 2.5        2.85714286 3.21428571 3.57142857 3.92857143\n",
            " 4.28571429 4.64285714 5.        ]\n",
            "\n",
            "[[0.         0.35714286 0.71428571]\n",
            " [1.07142857 1.42857143 1.78571429]\n",
            " [2.14285714 2.5        2.85714286]\n",
            " [3.21428571 3.57142857 3.92857143]\n",
            " [4.28571429 4.64285714 5.        ]]\n",
            "[[0.         0.35714286 0.71428571 1.07142857 1.42857143]\n",
            " [1.78571429 2.14285714 2.5        2.85714286 3.21428571]\n",
            " [3.57142857 3.92857143 4.28571429 4.64285714 5.        ]]\n",
            "[0.         0.35714286 0.71428571 1.07142857 1.42857143 1.78571429\n",
            " 2.14285714 2.5        2.85714286 3.21428571 3.57142857 3.92857143\n",
            " 4.28571429 4.64285714 5.        ]\n"
          ]
        }
      ],
      "source": [
        "# inclusive boundary on both sides\n",
        "# goes from left to right\n",
        "# with copy there will be no poitner reference\n",
        "vec4 = np.linspace(0,5,15)\n",
        "print(vec4)\n",
        "print('')\n",
        "print(vec4.reshape(5,3))\n",
        "vec4_reshaped = vec4.reshape(3,5).copy()\n",
        "print(vec4_reshaped)\n",
        "vec4_reshaped[1,1]=100\n",
        "print(vec4)"
      ]
    },
    {
      "cell_type": "code",
      "execution_count": null,
      "metadata": {
        "colab": {
          "base_uri": "https://localhost:8080/"
        },
        "id": "b451k6uvobsF",
        "outputId": "11a6c0a8-5500-4724-d9b5-3772556a5ffa"
      },
      "outputs": [
        {
          "output_type": "stream",
          "name": "stdout",
          "text": [
            "[[0. 0. 0.]\n",
            " [0. 0. 0.]\n",
            " [0. 0. 0.]\n",
            " [0. 0. 0.]\n",
            " [0. 0. 0.]]\n",
            "\n",
            "[[1. 1. 1. 1. 1.]\n",
            " [1. 1. 1. 1. 1.]\n",
            " [1. 1. 1. 1. 1.]]\n",
            "\n",
            "[[1. 0. 0. 0. 0.]\n",
            " [0. 1. 0. 0. 0.]\n",
            " [0. 0. 1. 0. 0.]\n",
            " [0. 0. 0. 1. 0.]\n",
            " [0. 0. 0. 0. 1.]]\n"
          ]
        }
      ],
      "source": [
        "# zero , one , identity\n",
        "mat2 = np.zeros([5,3])\n",
        "print(mat2)\n",
        "mat3 = np.ones((3,5))\n",
        "print('')\n",
        "print(mat3)\n",
        "mat4 = np.eye(5)\n",
        "print('')\n",
        "print(mat4)"
      ]
    },
    {
      "cell_type": "code",
      "execution_count": null,
      "metadata": {
        "colab": {
          "base_uri": "https://localhost:8080/"
        },
        "id": "z0PfNL75obsI",
        "outputId": "26f5baac-1254-402d-d1e6-a5c0a9a3e37e"
      },
      "outputs": [
        {
          "output_type": "stream",
          "name": "stdout",
          "text": [
            "[2 3 4 5 6]\n",
            "[1 2]\n",
            "[3 4]\n",
            "[4 6]\n",
            "[2 2]\n",
            "[3 8]\n",
            "11\n"
          ]
        }
      ],
      "source": [
        "# we can +-*/ arrays together if they're the right size\n",
        "# broacasting comes ino pic when sizes are different\n",
        "\n",
        "a= np.arange(1,5)\n",
        "b= np.arange(1,6)\n",
        "# print(a+b)\n",
        "\n",
        "#broadcasting takes place here\n",
        "a= np.arange(1,2)\n",
        "b= np.arange(1,6)\n",
        "print(a+b)\n",
        "\n",
        "a= np.arange(1,3)\n",
        "b= np.arange(1,6)\n",
        "# print(a+b)\n",
        "\n",
        "# there is whole lot of rules in broadcasting, but we focus on what's important and relevant\n",
        "# addition or subtraction of vector\n",
        "vec1=np.arange(1,3)\n",
        "vec2=np.arange(3,5)\n",
        "print(vec1)\n",
        "print(vec2)\n",
        "print(vec2+vec1)\n",
        "print(vec2-vec1)\n",
        "\n",
        "# dot product of a vector\n",
        "# significance\n",
        "print(vec2*vec1)\n",
        "print((vec2*vec1).sum())"
      ]
    },
    {
      "cell_type": "code",
      "execution_count": null,
      "metadata": {
        "colab": {
          "base_uri": "https://localhost:8080/"
        },
        "id": "C46MWPYgobsK",
        "outputId": "09ea0876-7090-482d-a4cd-7e44233c1ab0"
      },
      "outputs": [
        {
          "output_type": "stream",
          "name": "stdout",
          "text": [
            "[1 2 3]\n",
            "\n",
            "[[1 2 1]\n",
            " [4 5 9]\n",
            " [1 8 9]]\n",
            "\n",
            "[ 8 41 44]\n",
            "\n"
          ]
        }
      ],
      "source": [
        "# we can do matrix multiplication\n",
        "# even the broadcasting comes into pic here but we are not gonna focus that\n",
        "# conventional\" no: of columns in left matrix = no: of rows in another matrix\n",
        "print(vec)\n",
        "print()\n",
        "\n",
        "print(mat)\n",
        "print('')\n",
        "\n",
        "# we change the data state to another state for mathematical convience for building models\n",
        "# for matric algebra\n",
        "product = np.matmul(mat,vec)\n",
        "print(product)\n",
        "print()\n",
        "\n"
      ]
    },
    {
      "cell_type": "code",
      "execution_count": null,
      "metadata": {
        "colab": {
          "base_uri": "https://localhost:8080/"
        },
        "id": "ar60dSB7obsM",
        "outputId": "196152ee-5568-4161-fb38-611c53aa96e1"
      },
      "outputs": [
        {
          "output_type": "stream",
          "name": "stdout",
          "text": [
            "[1. 2. 3.]\n",
            "-----\n",
            "\n",
            "[[ 0.5         0.18518519 -0.24074074]\n",
            " [ 0.5        -0.14814815  0.09259259]\n",
            " [-0.5         0.11111111  0.05555556]]\n"
          ]
        }
      ],
      "source": [
        "print(np.linalg.solve(mat,product))\n",
        "print('-----')\n",
        "\n",
        "print('')\n",
        "print(np.linalg.inv(mat))"
      ]
    },
    {
      "cell_type": "code",
      "source": [
        "#matrix algebra equation\n",
        "# wx=c\n",
        "# straigh line in compact form\n",
        "w=np.array([[1,2],[2,1]])\n",
        "x=np.array([[2,5],[6,5]])\n",
        "print(w)\n",
        "print('')\n",
        "print(x)\n",
        "print('')\n",
        "c=np.matmul(w,x)\n",
        "print(c)\n",
        "print('')\n",
        "\n",
        "print(np.linalg.solve(c,w))\n",
        "print('')\n",
        "()\n",
        "print(x)"
      ],
      "metadata": {
        "colab": {
          "base_uri": "https://localhost:8080/"
        },
        "id": "YmRUWyE7Nan6",
        "outputId": "d29b94a7-2e88-49c6-bc14-1dd67e8c0c25"
      },
      "execution_count": null,
      "outputs": [
        {
          "output_type": "stream",
          "name": "stdout",
          "text": [
            "[[1 2]\n",
            " [2 1]]\n",
            "\n",
            "[[2 5]\n",
            " [6 5]]\n",
            "\n",
            "[[14 15]\n",
            " [10 15]]\n",
            "\n",
            "[[-0.25  0.25]\n",
            " [ 0.3  -0.1 ]]\n",
            "\n",
            "[[2 5]\n",
            " [6 5]]\n"
          ]
        }
      ]
    },
    {
      "cell_type": "code",
      "execution_count": null,
      "metadata": {
        "colab": {
          "base_uri": "https://localhost:8080/"
        },
        "id": "t0zEjhUgobsO",
        "outputId": "bf4bb9bd-1ac5-4d4b-e3ed-ce4bc3f61da1"
      },
      "outputs": [
        {
          "output_type": "stream",
          "name": "stdout",
          "text": [
            "['blue' 'red' 'orange' 'purple' 'purple' 'orange' 'Red' '6']\n",
            "['6' 'Red' 'blue' 'orange' 'purple' 'red']\n"
          ]
        }
      ],
      "source": [
        "# we can find the unique values in an array\n",
        "# numpy arrays of same data type\n",
        "# order is not maintained after unique\n",
        "vec7 = np.array(['blue','red','orange','purple','purple','orange','Red',6])\n",
        "print(vec7)\n",
        "print(np.unique(vec7))"
      ]
    },
    {
      "cell_type": "code",
      "execution_count": null,
      "metadata": {
        "colab": {
          "base_uri": "https://localhost:8080/"
        },
        "id": "BtwiYq1mobsP",
        "outputId": "847a7a29-12a6-4a30-e063-1d86560e071d"
      },
      "outputs": [
        {
          "output_type": "stream",
          "name": "stdout",
          "text": [
            "[[0.11332318 0.97505097 0.39267231 0.68056981 0.58833069]\n",
            " [0.33289739 0.05766066 0.71481689 0.46038447 0.25172813]\n",
            " [0.85787899 0.44187066 0.50119983 0.89367272 0.37600898]\n",
            " [0.66077234 0.51530142 0.34395638 0.90401175 0.81761893]\n",
            " [0.92502019 0.30022931 0.9319293  0.86948794 0.69464586]\n",
            " [0.87514339 0.21953694 0.60546275 0.97862493 0.52194626]\n",
            " [0.25965607 0.76064909 0.68510078 0.67304159 0.98601928]\n",
            " [0.21817708 0.84742014 0.48193704 0.14261088 0.2921156 ]\n",
            " [0.68316087 0.93894436 0.62451911 0.78039421 0.06810986]\n",
            " [0.63611116 0.33955875 0.76699764 0.70538789 0.21610022]]\n",
            "\n",
            "[[ 0.74360158 -1.12160332 -0.14130103 -1.25070317  0.55357132]\n",
            " [-1.61941638  0.76588928 -1.08838054  0.040761   -1.88937164]\n",
            " [ 1.01812605  0.28637878 -2.50166225  0.4835328   0.12824165]\n",
            " [-0.67570839 -0.44461873 -0.36682834 -0.47632615 -0.57916028]\n",
            " [-0.4321497   1.12161413 -0.26386327  0.2680105  -1.30710877]\n",
            " [ 0.71988128 -1.82068339 -0.59536476 -0.03769028 -0.76544595]\n",
            " [-0.22186235  1.09685772 -1.1364208  -2.02898438 -0.04750979]\n",
            " [-2.27741793  0.27133992 -0.30824529 -0.44727459  1.45212813]\n",
            " [-1.1750793   1.41702746 -1.33091826  1.47659577 -0.82786039]\n",
            " [-0.84386725 -0.47758961  0.74734704 -0.5319584  -1.60897189]]\n"
          ]
        }
      ],
      "source": [
        "# we can also use numpy to generate samples of a random variable\n",
        "rand_mat = np.random.rand(10,5) # uniform random variable\n",
        "print(rand_mat)\n",
        "rand_mat2 = np.random.randn(10,5) # standard normal random variable\n",
        "print('')\n",
        "print(rand_mat2)"
      ]
    },
    {
      "cell_type": "code",
      "execution_count": null,
      "metadata": {
        "colab": {
          "base_uri": "https://localhost:8080/"
        },
        "id": "TJXfeNbQobsQ",
        "outputId": "781619e1-ee9d-42dd-89e2-43487a7b0fbc"
      },
      "outputs": [
        {
          "output_type": "stream",
          "name": "stdout",
          "text": [
            "0.5781552999019532\n",
            "0.2703822664906112\n",
            "\n",
            "-0.3610088428721301\n",
            "0.9891549310145855\n"
          ]
        }
      ],
      "source": [
        "# we can also use numpy for statistical tools on arrays\n",
        "print(np.mean(rand_mat))\n",
        "print(np.std(rand_mat))\n",
        "print('')\n",
        "print(np.mean(rand_mat2))\n",
        "print(np.std(rand_mat2))"
      ]
    },
    {
      "cell_type": "code",
      "execution_count": null,
      "metadata": {
        "colab": {
          "base_uri": "https://localhost:8080/"
        },
        "id": "Ry86LLtRobsR",
        "outputId": "e5bfc70e-cc85-4f64-95bb-a149f87ea3ce"
      },
      "outputs": [
        {
          "output_type": "stream",
          "name": "stdout",
          "text": [
            "0.05766065929375874\n",
            "1.4765957712598379\n"
          ]
        }
      ],
      "source": [
        "print(np.min(rand_mat))\n",
        "print(np.max(rand_mat2))"
      ]
    },
    {
      "cell_type": "code",
      "execution_count": null,
      "metadata": {
        "id": "6mAPiqMGobsT"
      },
      "outputs": [],
      "source": [
        "# break here for next video!"
      ]
    },
    {
      "cell_type": "code",
      "execution_count": null,
      "metadata": {
        "colab": {
          "base_uri": "https://localhost:8080/"
        },
        "id": "4Uh3eDt7obsT",
        "outputId": "fd8049d3-9b04-4553-ad2a-a653bf7b9625"
      },
      "outputs": [
        {
          "output_type": "stream",
          "name": "stdout",
          "text": [
            "[ 0.92504246 -0.83847545  0.06324878  0.96495675  1.41793252  1.1269297\n",
            " -0.75149436 -0.55797284 -1.13274969  1.36134095 -3.87807636  0.62812195\n",
            "  1.11981277 -0.73036735 -0.60358246 -0.05127811 -0.64768246  1.51661138\n",
            "  2.15316026]\n",
            "-0.751494364858209\n"
          ]
        }
      ],
      "source": [
        "# how do we access entries in a numpy vector\n",
        "rand_vec = np.random.randn(19)\n",
        "print(rand_vec)\n",
        "print(rand_vec[6])"
      ]
    },
    {
      "cell_type": "code",
      "execution_count": null,
      "metadata": {
        "colab": {
          "base_uri": "https://localhost:8080/"
        },
        "id": "uN1AWjK7obsV",
        "outputId": "9042e539-4dec-448c-b613-fa8183232ded"
      },
      "outputs": [
        {
          "output_type": "stream",
          "name": "stdout",
          "text": [
            "[ 1.41793252  1.1269297  -0.75149436 -0.55797284 -1.13274969]\n"
          ]
        }
      ],
      "source": [
        "# we can access multiple entries at once using :\n",
        "print(rand_vec[4:9])"
      ]
    },
    {
      "cell_type": "code",
      "execution_count": null,
      "metadata": {
        "colab": {
          "base_uri": "https://localhost:8080/"
        },
        "id": "CpbTiEWIobsV",
        "outputId": "5e631336-358d-4cfc-e222-e112d5c589ab"
      },
      "outputs": [
        {
          "output_type": "stream",
          "name": "stdout",
          "text": [
            "[ 0  3  6  9 12]\n",
            "[ 0.92504246  0.96495675 -0.75149436  1.36134095  1.11981277]\n"
          ]
        }
      ],
      "source": [
        "# we can also access multiple non-consecutive entries using np.arange\n",
        "print(np.arange(0,15,3))\n",
        "print(rand_vec[np.arange(0,15,3)])"
      ]
    },
    {
      "cell_type": "code",
      "execution_count": null,
      "metadata": {
        "colab": {
          "base_uri": "https://localhost:8080/"
        },
        "id": "k2e5HX4PobsW",
        "outputId": "f7dae9c9-99ae-4166-8d90-d69bde9f3a47"
      },
      "outputs": [
        {
          "output_type": "stream",
          "name": "stdout",
          "text": [
            "[[0.341003   0.7980109  0.35265991 0.13709951 0.35390207]\n",
            " [0.92967945 0.37682662 0.33297276 0.5593009  0.77275219]\n",
            " [0.72377976 0.82568458 0.04335267 0.53624905 0.6807291 ]\n",
            " [0.73003729 0.48088037 0.20864757 0.25829545 0.33587798]\n",
            " [0.06856032 0.01997288 0.44049428 0.50464566 0.47793605]\n",
            " [0.30145908 0.10102702 0.41820826 0.28368781 0.6706236 ]\n",
            " [0.41484626 0.11738572 0.85617013 0.23113101 0.03723328]\n",
            " [0.17604646 0.1891594  0.08408086 0.6800127  0.19601956]\n",
            " [0.44987304 0.32493667 0.81867784 0.66106742 0.70488326]\n",
            " [0.89364417 0.17085551 0.17055857 0.2029677  0.66412681]]\n",
            "0.332972759314482\n",
            "0.332972759314482\n"
          ]
        }
      ],
      "source": [
        "# what about matrices\n",
        "print(rand_mat)\n",
        "print(rand_mat[1][2])\n",
        "print(rand_mat[1,2])\n"
      ]
    },
    {
      "cell_type": "code",
      "execution_count": null,
      "metadata": {
        "colab": {
          "base_uri": "https://localhost:8080/"
        },
        "id": "5ju4CcNCobsY",
        "outputId": "f36b0325-9dba-4be2-e541-53e5aaadde7e"
      },
      "outputs": [
        {
          "output_type": "stream",
          "name": "stdout",
          "text": [
            "[[0.97505097 0.39267231]\n",
            " [0.05766066 0.71481689]]\n"
          ]
        }
      ],
      "source": [
        "# slicing comes into picture in numpy arrays as well\n",
        "print(rand_mat[0:2,1:3])"
      ]
    },
    {
      "cell_type": "code",
      "execution_count": null,
      "metadata": {
        "colab": {
          "base_uri": "https://localhost:8080/",
          "height": 231
        },
        "id": "7ch80hi1obsZ",
        "outputId": "8f481e21-14a6-4a00-d508-0fc3987f7e0b"
      },
      "outputs": [
        {
          "output_type": "error",
          "ename": "NameError",
          "evalue": "ignored",
          "traceback": [
            "\u001b[0;31m---------------------------------------------------------------------------\u001b[0m",
            "\u001b[0;31mNameError\u001b[0m                                 Traceback (most recent call last)",
            "\u001b[0;32m<ipython-input-21-045c52b9a007>\u001b[0m in \u001b[0;36m<module>\u001b[0;34m()\u001b[0m\n\u001b[1;32m      1\u001b[0m \u001b[0;31m# let's change some values in an array!\u001b[0m\u001b[0;34m\u001b[0m\u001b[0;34m\u001b[0m\u001b[0;34m\u001b[0m\u001b[0m\n\u001b[0;32m----> 2\u001b[0;31m \u001b[0mprint\u001b[0m\u001b[0;34m(\u001b[0m\u001b[0mrand_vec\u001b[0m\u001b[0;34m)\u001b[0m\u001b[0;34m\u001b[0m\u001b[0;34m\u001b[0m\u001b[0m\n\u001b[0m\u001b[1;32m      3\u001b[0m \u001b[0mrand_vec\u001b[0m\u001b[0;34m[\u001b[0m\u001b[0;36m3\u001b[0m\u001b[0;34m:\u001b[0m\u001b[0;36m5\u001b[0m\u001b[0;34m]\u001b[0m \u001b[0;34m=\u001b[0m \u001b[0;36m4\u001b[0m\u001b[0;34m\u001b[0m\u001b[0;34m\u001b[0m\u001b[0m\n\u001b[1;32m      4\u001b[0m \u001b[0mprint\u001b[0m\u001b[0;34m(\u001b[0m\u001b[0;34m''\u001b[0m\u001b[0;34m)\u001b[0m\u001b[0;34m\u001b[0m\u001b[0;34m\u001b[0m\u001b[0m\n\u001b[1;32m      5\u001b[0m \u001b[0mprint\u001b[0m\u001b[0;34m(\u001b[0m\u001b[0mrand_vec\u001b[0m\u001b[0;34m)\u001b[0m\u001b[0;34m\u001b[0m\u001b[0;34m\u001b[0m\u001b[0m\n",
            "\u001b[0;31mNameError\u001b[0m: name 'rand_vec' is not defined"
          ]
        }
      ],
      "source": [
        "# let's change some values in an array!\n",
        "print(rand_vec)  \n",
        "rand_vec[3:5] = 4\n",
        "print('')\n",
        "print(rand_vec)\n",
        "rand_vec[3:5] = [1,2]\n",
        "print('')\n",
        "print(rand_vec)"
      ]
    },
    {
      "cell_type": "code",
      "execution_count": null,
      "metadata": {
        "colab": {
          "base_uri": "https://localhost:8080/"
        },
        "id": "ZZwTtCLMobsa",
        "outputId": "3c88bd5b-9d21-4de0-d554-f0e1dea311fd"
      },
      "outputs": [
        {
          "output_type": "stream",
          "name": "stdout",
          "text": [
            "[[0.11332318 0.97505097 0.39267231 0.68056981 0.58833069]\n",
            " [0.33289739 0.05766066 0.71481689 0.46038447 0.25172813]\n",
            " [0.85787899 0.44187066 0.50119983 0.89367272 0.37600898]\n",
            " [0.66077234 0.51530142 0.34395638 0.90401175 0.81761893]\n",
            " [0.92502019 0.30022931 0.9319293  0.86948794 0.69464586]\n",
            " [0.87514339 0.21953694 0.60546275 0.97862493 0.52194626]\n",
            " [0.25965607 0.76064909 0.68510078 0.67304159 0.98601928]\n",
            " [0.21817708 0.84742014 0.48193704 0.14261088 0.2921156 ]\n",
            " [0.68316087 0.93894436 0.62451911 0.78039421 0.06810986]\n",
            " [0.63611116 0.33955875 0.76699764 0.70538789 0.21610022]]\n",
            "\n",
            "[[0.11332318 0.97505097 0.39267231 0.68056981 0.58833069]\n",
            " [0.33289739 0.05766066 0.71481689 0.         0.        ]\n",
            " [0.85787899 0.44187066 0.50119983 0.         0.        ]\n",
            " [0.66077234 0.51530142 0.34395638 0.90401175 0.81761893]\n",
            " [0.92502019 0.30022931 0.9319293  0.86948794 0.69464586]\n",
            " [0.87514339 0.21953694 0.60546275 0.97862493 0.52194626]\n",
            " [0.25965607 0.76064909 0.68510078 0.67304159 0.98601928]\n",
            " [0.21817708 0.84742014 0.48193704 0.14261088 0.2921156 ]\n",
            " [0.68316087 0.93894436 0.62451911 0.78039421 0.06810986]\n",
            " [0.63611116 0.33955875 0.76699764 0.70538789 0.21610022]]\n"
          ]
        }
      ],
      "source": [
        "print(rand_mat)\n",
        "rand_mat[1:3,3:5] = 0\n",
        "print('')\n",
        "print(rand_mat)"
      ]
    },
    {
      "cell_type": "code",
      "execution_count": null,
      "metadata": {
        "colab": {
          "base_uri": "https://localhost:8080/"
        },
        "id": "7VECkKV9obsb",
        "outputId": "6249392e-77bf-4222-9e1e-0e4ef31751a4"
      },
      "outputs": [
        {
          "output_type": "stream",
          "name": "stdout",
          "text": [
            "[[0.11332318 0.97505097 0.39267231]\n",
            " [0.33289739 0.05766066 0.71481689]]\n",
            "[[3. 3. 3.]\n",
            " [3. 3. 3.]]\n"
          ]
        }
      ],
      "source": [
        "# POINTER REFERENCE\n",
        "# WIERD REFERENCE\n",
        "sub_mat = rand_mat[0:2,0:3]\n",
        "print(sub_mat)\n",
        "sub_mat[:] = 3\n",
        "print(sub_mat)\n"
      ]
    },
    {
      "cell_type": "code",
      "execution_count": null,
      "metadata": {
        "colab": {
          "base_uri": "https://localhost:8080/"
        },
        "id": "OdS0cB1robsc",
        "outputId": "9bbb25cc-d2da-460b-8331-c13c526370d6"
      },
      "outputs": [
        {
          "output_type": "stream",
          "name": "stdout",
          "text": [
            "[[3.         3.         3.         0.68056981 0.58833069]\n",
            " [3.         3.         3.         0.         0.        ]\n",
            " [0.85787899 0.44187066 0.50119983 0.         0.        ]\n",
            " [0.66077234 0.51530142 0.34395638 0.90401175 0.81761893]\n",
            " [0.92502019 0.30022931 0.9319293  0.86948794 0.69464586]\n",
            " [0.87514339 0.21953694 0.60546275 0.97862493 0.52194626]\n",
            " [0.25965607 0.76064909 0.68510078 0.67304159 0.98601928]\n",
            " [0.21817708 0.84742014 0.48193704 0.14261088 0.2921156 ]\n",
            " [0.68316087 0.93894436 0.62451911 0.78039421 0.06810986]\n",
            " [0.63611116 0.33955875 0.76699764 0.70538789 0.21610022]]\n"
          ]
        }
      ],
      "source": [
        "print(rand_mat)"
      ]
    },
    {
      "cell_type": "code",
      "execution_count": null,
      "metadata": {
        "colab": {
          "base_uri": "https://localhost:8080/"
        },
        "id": "oSIPAZzlobsc",
        "outputId": "9ef61b0d-7e7c-40fc-9708-f0da4d8a0270"
      },
      "outputs": [
        {
          "output_type": "stream",
          "name": "stdout",
          "text": [
            "[[99. 99. 99.]\n",
            " [99. 99. 99.]]\n",
            "[[3.         3.         3.         0.68056981 0.58833069]\n",
            " [3.         3.         3.         0.         0.        ]\n",
            " [0.85787899 0.44187066 0.50119983 0.         0.        ]\n",
            " [0.66077234 0.51530142 0.34395638 0.90401175 0.81761893]\n",
            " [0.92502019 0.30022931 0.9319293  0.86948794 0.69464586]\n",
            " [0.87514339 0.21953694 0.60546275 0.97862493 0.52194626]\n",
            " [0.25965607 0.76064909 0.68510078 0.67304159 0.98601928]\n",
            " [0.21817708 0.84742014 0.48193704 0.14261088 0.2921156 ]\n",
            " [0.68316087 0.93894436 0.62451911 0.78039421 0.06810986]\n",
            " [0.63611116 0.33955875 0.76699764 0.70538789 0.21610022]]\n"
          ]
        }
      ],
      "source": [
        "# TO NULLIFY POINTER REFERENCE\n",
        "# WE USE .COPY COMMAND\n",
        "\n",
        "sub_mat2 = rand_mat[0:2,0:3].copy()\n",
        "sub_mat2[:] = 99\n",
        "print(sub_mat2)\n",
        "print(rand_mat)\n"
      ]
    },
    {
      "cell_type": "code",
      "execution_count": null,
      "metadata": {
        "id": "Enphxr80obsd"
      },
      "outputs": [],
      "source": [
        "\n",
        "# break here for next video"
      ]
    },
    {
      "cell_type": "code",
      "execution_count": null,
      "metadata": {
        "colab": {
          "base_uri": "https://localhost:8080/"
        },
        "id": "DTrxGv4dobse",
        "outputId": "b2f13516-8924-4ba5-9ca5-2e92f9f56ebd"
      },
      "outputs": [
        {
          "output_type": "stream",
          "name": "stdout",
          "text": [
            "[ 0.89837845  1.59030342 -0.88535958  1.49757944  0.93383886  0.4323502\n",
            "  0.07104523  0.27810367 -0.39092457  0.48294587  0.54346237 -0.94316503\n",
            " -0.27328931  1.83188723 -1.35297072]\n",
            "[ True  True False  True  True  True  True  True False  True  True False\n",
            " False  True False]\n",
            "[0.89837845 1.59030342 1.49757944 0.93383886 0.4323502  0.07104523\n",
            " 0.27810367 0.48294587 0.54346237 1.83188723]\n"
          ]
        }
      ],
      "source": [
        "# we can also access entries with logicals\n",
        "# LOGICAL INDEXING\n",
        "#\n",
        "rand_vec = np.random.randn(15)\n",
        "\n",
        "print(rand_vec)\n",
        "print(rand_vec>0)\n",
        "print(rand_vec[rand_vec>0]) "
      ]
    },
    {
      "cell_type": "code",
      "execution_count": null,
      "metadata": {
        "id": "vZzT0HHOobsf",
        "colab": {
          "base_uri": "https://localhost:8080/"
        },
        "outputId": "015a8f51-48d5-45b3-c996-0229f5da2de5"
      },
      "outputs": [
        {
          "output_type": "stream",
          "name": "stdout",
          "text": [
            "[[ 0.74360158 -1.12160332 -0.14130103 -1.25070317  0.55357132]\n",
            " [-1.61941638  0.76588928 -1.08838054  0.040761   -1.88937164]\n",
            " [ 1.01812605  0.28637878 -2.50166225  0.4835328   0.12824165]\n",
            " [-0.67570839 -0.44461873 -0.36682834 -0.47632615 -0.57916028]\n",
            " [-0.4321497   1.12161413 -0.26386327  0.2680105  -1.30710877]\n",
            " [ 0.71988128 -1.82068339 -0.59536476 -0.03769028 -0.76544595]\n",
            " [-0.22186235  1.09685772 -1.1364208  -2.02898438 -0.04750979]\n",
            " [-2.27741793  0.27133992 -0.30824529 -0.44727459  1.45212813]\n",
            " [-1.1750793   1.41702746 -1.33091826  1.47659577 -0.82786039]\n",
            " [-0.84386725 -0.47758961  0.74734704 -0.5319584  -1.60897189]]\n",
            "[0.74360158 0.55357132 0.76588928 0.040761   1.01812605 0.28637878\n",
            " 0.4835328  0.12824165 1.12161413 0.2680105  0.71988128 1.09685772\n",
            " 0.27133992 1.45212813 1.41702746 1.47659577 0.74734704]\n"
          ]
        }
      ],
      "source": [
        "print(rand_mat2)\n",
        "print(rand_mat2[rand_mat2>0])"
      ]
    },
    {
      "cell_type": "code",
      "execution_count": null,
      "metadata": {
        "id": "Xb4vgw6Iobsf",
        "colab": {
          "base_uri": "https://localhost:8080/"
        },
        "outputId": "cbe795c4-bb5c-4246-ca64-ac5975f15cb4"
      },
      "outputs": [
        {
          "output_type": "stream",
          "name": "stdout",
          "text": [
            "[ 0.89837845  1.59030342 -0.88535958  1.49757944  0.93383886  0.4323502\n",
            "  0.07104523  0.27810367 -0.39092457  0.48294587  0.54346237 -0.94316503\n",
            " -0.27328931  1.83188723 -1.35297072]\n",
            "\n",
            "[-5.         -5.         -0.88535958 -5.         -5.          0.4323502\n",
            "  0.07104523  0.27810367 -0.39092457  0.48294587 -5.         -0.94316503\n",
            " -0.27328931 -5.         -1.35297072]\n"
          ]
        }
      ],
      "source": [
        "\n",
        "print(rand_vec)\n",
        "print('')\n",
        "rand_vec[rand_vec>0.5] = -5\n",
        "print(rand_vec)"
      ]
    },
    {
      "cell_type": "code",
      "execution_count": null,
      "metadata": {
        "id": "xxzJl38robsg"
      },
      "outputs": [],
      "source": [
        "# let's save some arrays on the disk for use later!\n",
        "np.save('saved_file_name',rand_mat2)\n"
      ]
    },
    {
      "cell_type": "code",
      "execution_count": null,
      "metadata": {
        "id": "hYmlbomkobsh"
      },
      "outputs": [],
      "source": [
        "np.savez('zipped_file_name',rand_mat=rand_mat,rand_mat2=rand_mat2)"
      ]
    },
    {
      "cell_type": "code",
      "execution_count": null,
      "metadata": {
        "id": "wq9iFKMjobsh"
      },
      "outputs": [],
      "source": [
        "# now let's load it\n",
        "loaded_vec = np.load('saved_file_name.npy')\n",
        "loaded_zip = np.load('zipped_file_name.npz')\n",
        "\n",
        "print(loaded_vec)\n",
        "print('')\n",
        "print(loaded_zip)"
      ]
    },
    {
      "cell_type": "code",
      "execution_count": null,
      "metadata": {
        "id": "tmqGIURLobsi"
      },
      "outputs": [],
      "source": [
        "print(loaded_zip['rand_mat'])\n",
        "print('')\n",
        "print(loaded_zip['rand_mat2'])\n",
        "\n",
        "new_array  = loaded_zip['rand_mat']\n",
        "print(new_array)"
      ]
    },
    {
      "cell_type": "code",
      "execution_count": null,
      "metadata": {
        "id": "qf2Fqgk3obsi"
      },
      "outputs": [],
      "source": [
        "# we can also save/load as text files...but only single variables...but only one variables we could store\n",
        "np.savetxt('text_file_name.txt',rand_mat,delimiter=',')\n",
        "rand_mat_txt = np.loadtxt('text_file_name.txt',delimiter=',')\n",
        "print(rand_mat)\n",
        "print('')\n",
        "print(rand_mat_txt)"
      ]
    },
    {
      "cell_type": "markdown",
      "source": [
        "# New section"
      ],
      "metadata": {
        "id": "vpQhRyxWktM0"
      }
    },
    {
      "cell_type": "code",
      "execution_count": null,
      "metadata": {
        "id": "zBZFJQwXobsj"
      },
      "outputs": [],
      "source": [
        ""
      ]
    }
  ],
  "metadata": {
    "kernelspec": {
      "display_name": "Python 3",
      "language": "python",
      "name": "python3"
    },
    "language_info": {
      "codemirror_mode": {
        "name": "ipython",
        "version": 3
      },
      "file_extension": ".py",
      "mimetype": "text/x-python",
      "name": "python",
      "nbconvert_exporter": "python",
      "pygments_lexer": "ipython3",
      "version": "3.6.8"
    },
    "colab": {
      "name": "numpy_examples.ipynb",
      "provenance": [],
      "collapsed_sections": [],
      "include_colab_link": true
    }
  },
  "nbformat": 4,
  "nbformat_minor": 0
}